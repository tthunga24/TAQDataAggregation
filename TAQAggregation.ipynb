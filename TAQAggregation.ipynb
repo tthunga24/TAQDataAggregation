{
  "nbformat": 4,
  "nbformat_minor": 0,
  "metadata": {
    "colab": {
      "provenance": [],
      "history_visible": true,
      "gpuType": "T4",
      "mount_file_id": "14GOxBJwkPuXp2kuvrepz1LRq5d7eVULW",
      "authorship_tag": "ABX9TyMciA1jmlAI6iK4pLKkwULZ",
      "include_colab_link": true
    },
    "kernelspec": {
      "name": "python3",
      "display_name": "Python 3"
    },
    "language_info": {
      "name": "python"
    }
  },
  "cells": [
    {
      "cell_type": "markdown",
      "metadata": {
        "id": "view-in-github",
        "colab_type": "text"
      },
      "source": [
        "<a href=\"https://colab.research.google.com/github/tthunga24/TAQDataAggregation/blob/main/TAQAggregation.ipynb\" target=\"_parent\"><img src=\"https://colab.research.google.com/assets/colab-badge.svg\" alt=\"Open In Colab\"/></a>"
      ]
    },
    {
      "cell_type": "code",
      "source": [
        "import pandas as pd\n",
        "\"\"\"\n",
        "Import NYSE TAQ data here as df using pd.read_csv()\n",
        "Data should at least contain columns: BID, ASK, TIME_M, DATE, SYM_ROOT\n",
        "\"\"\""
      ],
      "metadata": {
        "id": "7QkOeXcv8IcU"
      },
      "execution_count": null,
      "outputs": []
    },
    {
      "cell_type": "code",
      "source": [
        "mktOpen = \"09:30:00\" # Specify market hours for use in bid/ask spread filtering\n",
        "mktClose = \"16:00:00\"\n",
        "ticker = df['SYM_ROOT'].iloc[0]\n",
        "\n",
        "def filterZeros(df):\n",
        "    df = df[(df['ASK'] != 0) & (df['BID'] != 0)]\n",
        "    return df\n",
        "\n",
        "def filterHours(df, startTime, endTime):\n",
        "    df = df[pd.to_datetime(df['TIME_M'], format='%H:%M:%S.%f').dt.time >= pd.to_datetime(startTime).time()]\n",
        "    df = df[pd.to_datetime(df['TIME_M'], format='%H:%M:%S.%f').dt.time <= pd.to_datetime(endTime).time()]\n",
        "    return df\n",
        "\n",
        "def filterBadSpreads(df, maxSpread, maxSpreadExt):\n",
        "    time_m = pd.to_datetime(df['TIME_M'], format='%H:%M:%S.%f').dt.time\n",
        "    mkt_open_time = pd.to_datetime(mktOpen).time()\n",
        "    mkt_close_time = pd.to_datetime(mktClose).time()\n",
        "    if (time_m <= mkt_open_time).any() or (time_m >= mkt_close_time).any():\n",
        "        df = df[df['ASK'] - df['BID'] <= maxSpreadExt]\n",
        "        df = df[df['ASK'] - df['BID'] >= 0]\n",
        "        return df\n",
        "    else:\n",
        "      df = df[df['ASK'] - df['BID'] <= maxSpread]\n",
        "      df = df[df['ASK'] - df['BID'] >= 0]\n",
        "    return df\n",
        "\n",
        "def calculateMidpoint(df):\n",
        "    df['MIDPOINT'] = (df['ASK'] + df['BID']) / 2\n",
        "    return df\n",
        "\n",
        "def aggregateData(df, interval):\n",
        "    df['TIMESTAMP'] = pd.to_datetime(df['DATE'].astype(str) + ' ' + df['TIME_M'].astype(str))\n",
        "    df = df.set_index('TIMESTAMP')\n",
        "    aggregated_df = df['MIDPOINT'].resample(interval).ohlc()\n",
        "    return aggregated_df\n"
      ],
      "metadata": {
        "id": "iJLaawpLB_oa"
      },
      "execution_count": 24,
      "outputs": []
    },
    {
      "cell_type": "code",
      "source": [
        "df = df.dropna(subset=[\"BID\", \"ASK\", \"TIME_M\"])\n",
        "df = filterZeros(df)\n",
        "df = filterBadSpreads(df, 0.05, 0.10) # Because extended market hours may have less liquidity, consider allowing looser spreads\n",
        "df = filterHours(df, '08:00:00', \"16:00:00\") #24hr time format\n",
        "df = calculateMidpoint(df)\n",
        "df = aggregateData(df, '1min') #Specify aggregation interval\n",
        "df = df.round(2) #Modify if further precision in price is required\n",
        "df['SYMBOL'] = ticker\n",
        "df.to_csv('data.csv')"
      ],
      "metadata": {
        "id": "XHGUU48_ftAC"
      },
      "execution_count": 25,
      "outputs": []
    }
  ]
}